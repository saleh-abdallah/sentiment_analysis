{
 "cells": [
  {
   "cell_type": "markdown",
   "id": "c252a7c1",
   "metadata": {},
   "source": [
    "Name: Saleh Abdallah"
   ]
  },
  {
   "cell_type": "code",
   "execution_count": 18,
   "id": "c50a0b36",
   "metadata": {},
   "outputs": [],
   "source": [
    "import pandas as pd\n",
    "import re\n",
    "from sklearn.model_selection import train_test_split\n",
    "from sklearn.linear_model import LogisticRegression\n",
    "from sklearn.metrics import accuracy_score, f1_score\n",
    "from sklearn.model_selection import train_test_split\n",
    "from sklearn.feature_extraction.text import TfidfVectorizer\n",
    "from flask import Flask, request, jsonify\n",
    "import joblib\n",
    "import warnings\n",
    "warnings.filterwarnings('ignore')"
   ]
  },
  {
   "cell_type": "code",
   "execution_count": 12,
   "id": "7f897f71",
   "metadata": {},
   "outputs": [],
   "source": [
    "# Data Collection and Preprocessing\n",
    "\n",
    "# Download the Sentiment140 dataset from the bottom of this page.\n",
    "\n",
    "df = pd.read_csv('training.csv', encoding='latin-1', header=None)\n",
    "df.columns = ['sentiment', 'id', 'date', 'query', 'user', 'text']\n",
    "\n",
    "# Clean and preprocess the tweets:\n",
    "# Remove URLs, mentions, and special characters.\n",
    "# Tokenize text and convert to lowercase.\n",
    "\n",
    "def clean_tweet(tweet):\n",
    "    tweet = re.sub(r\"http\\S+|@\\S+|[^A-Za-z0-9 ]+\", '', tweet)\n",
    "    return tweet.lower()\n",
    "\n",
    "df['text'] = df['text'].apply(clean_tweet)\n",
    "df['sentiment'] = df['sentiment'].map({0: 0, 4: 1})"
   ]
  },
  {
   "cell_type": "code",
   "execution_count": 14,
   "id": "9c662557",
   "metadata": {},
   "outputs": [
    {
     "name": "stdout",
     "output_type": "stream",
     "text": [
      "Accuracy: 0.7983\n",
      "F1 Score: 0.7983\n"
     ]
    }
   ],
   "source": [
    "# Model Training\n",
    "# Utilize a logistic regression model for sentiment analysis.\n",
    "# Validate the model’s performance through metrics like accuracy and F1-score, using a separate validation dataset.\n",
    "\n",
    "X_train, X_test, y_train, y_test = train_test_split(df['text'], df['sentiment'], test_size=0.2)\n",
    "\n",
    "vectorizer = TfidfVectorizer()\n",
    "X_train_vec = vectorizer.fit_transform(X_train)\n",
    "X_test_vec = vectorizer.transform(X_test)\n",
    "\n",
    "model = LogisticRegression()\n",
    "model.fit(X_train_vec, y_train)\n",
    "\n",
    "preds = model.predict(X_test_vec)\n",
    "print(\"Accuracy:\", round(accuracy_score(y_test, preds), 4))\n",
    "print(\"F1 Score:\", round(f1_score(y_test, preds, average='weighted'), 4))"
   ]
  },
  {
   "cell_type": "code",
   "execution_count": 21,
   "id": "cebb52cf",
   "metadata": {},
   "outputs": [
    {
     "data": {
      "text/plain": [
       "['vectorizer.pkl']"
      ]
     },
     "execution_count": 21,
     "metadata": {},
     "output_type": "execute_result"
    }
   ],
   "source": [
    "# Save the Model\n",
    "joblib.dump(model, 'model.pkl')\n",
    "joblib.dump(vectorizer, 'vectorizer.pkl')"
   ]
  },
  {
   "cell_type": "code",
   "execution_count": 3,
   "id": "ce130818",
   "metadata": {},
   "outputs": [],
   "source": [
    "# Create a Dockerfile to containerize the Flask application, ensuring all dependencies are correctly handled.\n",
    "# Push the Docker image to Docker Hub.\n",
    "\n",
    "###\n",
    "# Created a docker file container that includes the flask api and the traained sentiment model.\n",
    "###"
   ]
  },
  {
   "cell_type": "code",
   "execution_count": null,
   "id": "b309204c",
   "metadata": {},
   "outputs": [],
   "source": [
    "# MLOps Integration\n",
    "# Set up GitHub Actions for CI/CD to automate the testing and deployment of the Flask application whenever updates are made to the code.\n",
    "# Integrate tests that check the API’s ability to receive requests and return the correct sentiment.\n",
    "# Document the model versioning and how to roll back to previous versions if needed.\n",
    "\n",
    "###\n",
    "# Created a github repo for CI/CD to automate the testing and deployment of the Flask application .\n",
    "###"
   ]
  },
  {
   "cell_type": "code",
   "execution_count": null,
   "id": "478b9659",
   "metadata": {},
   "outputs": [],
   "source": [
    "# Deployment\n",
    "# Deploy the containerized application to a cloud provider like AWS or a local server using Kubernetes for orchestration.\n",
    "# Configure Kubernetes to manage the deployment and scaling of the application automatically."
   ]
  },
  {
   "cell_type": "code",
   "execution_count": null,
   "id": "e335f822",
   "metadata": {},
   "outputs": [],
   "source": []
  },
  {
   "cell_type": "code",
   "execution_count": null,
   "id": "36e06a01",
   "metadata": {},
   "outputs": [],
   "source": []
  }
 ],
 "metadata": {
  "kernelspec": {
   "display_name": "base",
   "language": "python",
   "name": "python3"
  },
  "language_info": {
   "codemirror_mode": {
    "name": "ipython",
    "version": 3
   },
   "file_extension": ".py",
   "mimetype": "text/x-python",
   "name": "python",
   "nbconvert_exporter": "python",
   "pygments_lexer": "ipython3",
   "version": "3.12.3"
  }
 },
 "nbformat": 4,
 "nbformat_minor": 5
}
